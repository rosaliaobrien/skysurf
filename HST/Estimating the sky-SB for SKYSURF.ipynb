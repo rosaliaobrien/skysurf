{
 "cells": [
  {
   "cell_type": "markdown",
   "id": "b5600041",
   "metadata": {},
   "source": [
    "In this notebook, we show how to estimate the sky surface brightness (sky-SB) using the methods from [O'Brien et al. (2022)](https://ui.adsabs.harvard.edu/abs/2022arXiv221008010O/abstract)."
   ]
  },
  {
   "cell_type": "markdown",
   "id": "7e98c332",
   "metadata": {},
   "source": [
    "## Imports"
   ]
  },
  {
   "cell_type": "code",
   "execution_count": null,
   "id": "ebe19e5b",
   "metadata": {
    "ExecuteTime": {
     "end_time": "2023-10-13T21:27:22.136801977Z",
     "start_time": "2023-10-13T21:27:22.093049051Z"
    }
   },
   "outputs": [],
   "source": [
    "# Sky-SB codes\n",
    "from skysurf_estimate_sky import calculate_sky\n",
    "from make_diagnostic import make_plots\n",
    "\n",
    "# For downloading test data\n",
    "from astropy.io import fits\n",
    "from astroquery.mast import Observations\n",
    "\n",
    "# Other\n",
    "from glob import glob\n",
    "import pandas as pd\n",
    "import os\n",
    "\n",
    "from multiprocessing import Pool\n",
    "from multiprocessing import Manager\n",
    "import multiprocessing\n",
    "from functools import partial"
   ]
  },
  {
   "cell_type": "markdown",
   "id": "c1d3443d",
   "metadata": {},
   "source": [
    "## Download test data"
   ]
  },
  {
   "cell_type": "markdown",
   "id": "26023322",
   "metadata": {},
   "source": [
    "We download some test data to estimate the sky-SB. We choose images of the [JWST NEP TDF](http://lambda.la.asu.edu/jwst/neptdf/), taken with the ACS/WFC camera on the Hubble Space Telescope, using the F606W filter. We will estimate the sky-SB directly on flc images, which are calibrated HST images."
   ]
  },
  {
   "cell_type": "code",
   "execution_count": null,
   "id": "d4ada7bc",
   "metadata": {
    "ExecuteTime": {
     "end_time": "2023-10-13T21:27:25.240227543Z",
     "start_time": "2023-10-13T21:27:22.100893988Z"
    },
    "scrolled": true
   },
   "outputs": [],
   "source": [
    "# ### Query observations ###\n",
    "obs_table = Observations.query_criteria(proposal_pi=\"Jansen*\", proposal_id = 15278, filters = 'F606W')\n",
    "data_products = Observations.get_product_list(obs_table)\n",
    "\n",
    "### Download FLC files ###\n",
    "data_flc = data_products[(data_products['productSubGroupDescription'] == 'FLC') & (data_products['type'] == 'S')]\n",
    "Observations.download_products(data_flc[:10]) # Only download the first few images"
   ]
  },
  {
   "cell_type": "markdown",
   "id": "7d08e5c6",
   "metadata": {},
   "source": [
    "We define the list of files we will be working with, which are located in the 'mastDownload' directory."
   ]
  },
  {
   "cell_type": "code",
   "execution_count": null,
   "id": "7f864986",
   "metadata": {
    "ExecuteTime": {
     "end_time": "2023-10-13T21:27:25.245519563Z",
     "start_time": "2023-10-13T21:27:25.241656073Z"
    },
    "scrolled": true
   },
   "outputs": [],
   "source": [
    "file_list = glob('mastDownload/HST/*/*_flc.fits')\n",
    "file_list"
   ]
  },
  {
   "cell_type": "markdown",
   "id": "410c139d",
   "metadata": {},
   "source": [
    "## Estimate sky-SB"
   ]
  },
  {
   "cell_type": "markdown",
   "id": "0c3a51eb",
   "metadata": {},
   "source": [
    "To estimate the sky-SB from a single image, we choose one of the files in 'file_list' defined above."
   ]
  },
  {
   "cell_type": "code",
   "execution_count": null,
   "id": "29874641",
   "metadata": {
    "ExecuteTime": {
     "end_time": "2023-10-13T21:27:25.251567726Z",
     "start_time": "2023-10-13T21:27:25.244682449Z"
    }
   },
   "outputs": [],
   "source": [
    "file = file_list[0]"
   ]
  },
  {
   "cell_type": "markdown",
   "id": "50b52f11",
   "metadata": {},
   "source": [
    "We open this FITS file and read the science and data quality (DQ) extensions. The science extension contains the real image, while DQ flags indicate pixels that can be unreliable, including pixels contaminated with cosmic rays, saturated pixels, or known bad detector pixels. The DQ data is used to mask unreliable pixels during sky-SB estimation."
   ]
  },
  {
   "cell_type": "code",
   "execution_count": null,
   "id": "840188f2",
   "metadata": {
    "ExecuteTime": {
     "end_time": "2023-10-13T21:27:25.280674742Z",
     "start_time": "2023-10-13T21:27:25.252276747Z"
    }
   },
   "outputs": [],
   "source": [
    "# Open the fits file\n",
    "hdu = fits.open(file)\n",
    "\n",
    "# Open the science data\n",
    "sci1_data = hdu['SCI', 1].data\n",
    "\n",
    "# Open the data quality data\n",
    "dq1_data = hdu['DQ', 1].data"
   ]
  },
  {
   "cell_type": "markdown",
   "id": "b92339f8",
   "metadata": {},
   "source": [
    "Next, we use the function 'calculate_sky' to estimate the sky-SB. We give the 'calculate_sky' function the science array, the DQ array, and the size of a sub-region.\n",
    "\n",
    "The 'bin_size' is the size of each sub-region in pixel units, where the image is divided into sub-regions of this size to estimate the sky-SB. Bigger sub-regions make it harder to mask unreliable sub-regions, but too small of a sub-region lacks sufficient statistics for a robust sky measurement within a single sub-region. In [O'Brien et al. (2022)](https://ui.adsabs.harvard.edu/abs/2022arXiv221008010O/abstract), we use box sizes of 39x39 pixels for WFC3/IR and 64x64 pixels for ACS/WFC and WFC3/UVIS. Note that any leftover pixels after creating these sub-regions are added to the top-most and right-most sub-regions.\n",
    "\n",
    "We set has_DQ = True when we want to mask pixels flagged in the DQ extension. The 'dq_fraction' parameter defines the fraction of pixels in a single-subregion that must be flagged in the DQ array for the entire sub-region to be ignored. We set this value to 0.2, or if more than 20% of the pixels in a sub-region are flagged, this sub-region is ignored."
   ]
  },
  {
   "cell_type": "code",
   "execution_count": null,
   "id": "4e66f90a",
   "metadata": {
    "ExecuteTime": {
     "end_time": "2023-10-13T21:27:30.432364205Z",
     "start_time": "2023-10-13T21:27:25.261794260Z"
    },
    "scrolled": true
   },
   "outputs": [],
   "source": [
    "sky_dic1 = calculate_sky(sci1_data, bin_size = 64, dq_data = dq1_data, has_DQ = True, dq_fraction = 0.2,\n",
    "                         percentile = 50)"
   ]
  },
  {
   "cell_type": "markdown",
   "id": "840c305c",
   "metadata": {},
   "source": [
    "The calculate_sky function returns a dictionary containing information about the sky-SB calculation.\n",
    "\n",
    "| Parameter | Definition |\n",
    "| -- | -- |\n",
    "| calc_sky | The calculated sky-SB in the native units of the image\n",
    "| calc_rms | The calculated sky-SB rms in the native units of the image\n",
    "| N_total_regions | Number of sub-regions\n",
    "| N_bad_regions | Number of sub-regions where the algorithm detected an object\n",
    "| N_bad_px_regions | Number of sub-regions where the number of DQ-flagged pixels is greater than 20%\n",
    "| N_good_regions | Number of sub-regions used to calculated calc_sky and calc_rms\n",
    "| calc_sky_mean | Same as calc_sky, but using a mean instead of a median during the iterative clipping\n",
    "| calc_rms_mean | Same as calc_rms, but using a mean instead of a median during the iterative clipping\n",
    "| sky_arr | Array containing all sky levels corresponding to individual sub-regions (used for creating plots)\n",
    "| rms_arr | Array containing all sky rms levels corresponding to individual sub-regions (used for creating plots)\n",
    "| cutouts | List of Cutout2D objects corresponding to each sub-region (used for creating plots)\n",
    "| lowest5perc_ind | Indices corresponding to the darkest 5% of sub-regions (used for creating plots)\n",
    "| bad_ind | Indices corresponding to sub-regions where the algorithm detected an object (used for creating plots)\n",
    "| badpx_ind | Indices corresponding to sub-regions where the number of DQ-flagged pixels is greater than 20% (used for creating plots)\n",
    "| mean_x_pos and mean_y_pos | Mean x/y position of all \"good\" sub-regions\n",
    "| std_x_pos and std_y_pos | Standard deviation of all \"good\" sub-regions"
   ]
  },
  {
   "cell_type": "markdown",
   "id": "f2892348",
   "metadata": {},
   "source": [
    "## Plot results"
   ]
  },
  {
   "cell_type": "markdown",
   "id": "843555b9",
   "metadata": {},
   "source": [
    "Next, we plot the image with the sub-regions overlayed to ensure the algorithm performed correctly. Information about the image is displayed underneath the figure, including the measured sky-SB, the measured sky-SB rms, and the fraction of sub-regions (F) that are flagged."
   ]
  },
  {
   "cell_type": "code",
   "execution_count": null,
   "id": "6cdd168c",
   "metadata": {
    "ExecuteTime": {
     "end_time": "2023-10-13T21:27:32.848929395Z",
     "start_time": "2023-10-13T21:27:30.440135136Z"
    },
    "scrolled": true
   },
   "outputs": [],
   "source": [
    "make_plots(data = sci1_data, cutouts = sky_dic1['cutouts'][0], \n",
    "           goodind = sky_dic1['lowest5perc_ind'][0], badind = sky_dic1['bad_ind'][0], \n",
    "           sky = sky_dic1['calc_sky'][0], rms = sky_dic1['calc_rms'][0], \n",
    "           badpx = sky_dic1['badpx_ind'][0], title = file_list[0], \n",
    "           save = False, savepath = None, \n",
    "           show = True, figsize = (15,9))"
   ]
  },
  {
   "cell_type": "markdown",
   "id": "44d7b1c4",
   "metadata": {},
   "source": [
    "## Run on multiple images"
   ]
  },
  {
   "cell_type": "markdown",
   "id": "4f5d94d6",
   "metadata": {},
   "source": [
    "To run calculate_sky on multiple images, we will loop through all the files and save the information to a pandas dataframe."
   ]
  },
  {
   "cell_type": "code",
   "execution_count": null,
   "id": "5f8b1990",
   "metadata": {
    "ExecuteTime": {
     "end_time": "2023-10-13T21:27:54.455542968Z",
     "start_time": "2023-10-13T21:27:32.848489969Z"
    },
    "scrolled": true
   },
   "outputs": [],
   "source": [
    "df = pd.DataFrame([])\n",
    "\n",
    "with open('skysurf_log.txt', 'w') as f:\n",
    "    f.write('Log \\n')\n",
    "\n",
    "def worker(file, ns):\n",
    "\n",
    "    for sci_ext in [1,2]:\n",
    "        \n",
    "        with open('skysurf_log.txt', 'a') as f:\n",
    "            f.write('Running: '+file+' SCI'+str(sci_ext)+'\\n')\n",
    "    \n",
    "        # Make small dataframe with file name\n",
    "        root = os.path.basename(file).split('_')[0]\n",
    "        file_df = pd.DataFrame({'file': [file], 'root': [root], 'sci_ext': [sci_ext]})\n",
    "\n",
    "        # Open the fits file\n",
    "        hdu = fits.open(file)\n",
    "\n",
    "        # Save the science data\n",
    "        sci_data = hdu['SCI', sci_ext].data\n",
    "\n",
    "        # Save the data quality data\n",
    "        dq_data = hdu['DQ', sci_ext].data\n",
    "\n",
    "        sky_dic = calculate_sky(sci_data, bin_size = 64, dq_data = dq_data, has_DQ = True, dq_fraction = 0.2)\n",
    "        \n",
    "        ### Make plots ###\n",
    "        # Instead of showing each figure, save them in the local directory\n",
    "        save_images = '{r}_percentileclip_sky_SCI{e}.png'.format(r = root, e = sci_ext)\n",
    "        title = file+'\\nExt. {}'.format(sci_ext)\n",
    "        make_plots(data = sci_data, cutouts = sky_dic['cutouts'][0], \n",
    "               goodind = sky_dic['lowest5perc_ind'][0], badind = sky_dic['bad_ind'][0], \n",
    "               sky = sky_dic['calc_sky'][0], rms = sky_dic['calc_rms'][0], \n",
    "               badpx = sky_dic['badpx_ind'][0], title = title, \n",
    "               save = True, savepath = save_images, \n",
    "               show = False, figsize = (15,9))\n",
    "\n",
    "        ### Drop keys from output that we no longer need ###\n",
    "        drop_keys = ['sky_arr', 'rms_arr', 'cutouts', 'lowest5perc_ind', 'bad_ind', 'badpx_ind']\n",
    "        for key in drop_keys:\n",
    "            sky_dic.pop(key, None)\n",
    "\n",
    "        ### Save information to dataframe ###\n",
    "        tempdf = pd.DataFrame(pd.concat([file_df, pd.DataFrame(sky_dic)], axis = 1))\n",
    "\n",
    "        #df = pd.concat([df, tempdf])\n",
    "        ns[file + str(sci_ext)] = tempdf\n",
    "        \n",
    "# Implement multiprocessing (optional)\n",
    "cores = multiprocessing.cpu_count() # Number of cores you will use\n",
    "print(f\"multiprocessing using {cores} CPU cores.\")\n",
    "p = Pool()\n",
    "mgr = Manager()\n",
    "ns = mgr.dict()\n",
    "partial_worker_function = partial(worker, ns=ns)\n",
    "p.map(partial_worker_function, file_list)\n",
    "\n",
    "# Save all results to csv file\n",
    "for data in ns.values():\n",
    "    df = pd.concat([df, data])"
   ]
  },
  {
   "cell_type": "code",
   "execution_count": null,
   "id": "67eb68dd",
   "metadata": {
    "ExecuteTime": {
     "end_time": "2023-10-13T21:27:54.467560733Z",
     "start_time": "2023-10-13T21:27:54.463786691Z"
    }
   },
   "outputs": [],
   "source": [
    "# Look at final dataframe\n",
    "df.reset_index(drop = True)"
   ]
  },
  {
   "cell_type": "markdown",
   "id": "5a7cbb26",
   "metadata": {},
   "source": [
    "Finally, we save all sky measurements into a single CSV file."
   ]
  },
  {
   "cell_type": "code",
   "execution_count": null,
   "id": "46632e07",
   "metadata": {
    "ExecuteTime": {
     "end_time": "2023-10-13T21:27:54.473210783Z",
     "start_time": "2023-10-13T21:27:54.467087628Z"
    }
   },
   "outputs": [],
   "source": [
    "df.to_csv('skysurf_jwstneptdf.csv', index = False)"
   ]
  }
 ],
 "metadata": {
  "kernelspec": {
   "display_name": "Python 3 (ipykernel)",
   "language": "python",
   "name": "python3"
  },
  "language_info": {
   "codemirror_mode": {
    "name": "ipython",
    "version": 3
   },
   "file_extension": ".py",
   "mimetype": "text/x-python",
   "name": "python",
   "nbconvert_exporter": "python",
   "pygments_lexer": "ipython3",
   "version": "3.12.4"
  }
 },
 "nbformat": 4,
 "nbformat_minor": 5
}
